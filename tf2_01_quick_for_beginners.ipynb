{
  "nbformat": 4,
  "nbformat_minor": 0,
  "metadata": {
    "colab": {
      "name": "tf2_01",
      "provenance": [],
      "collapsed_sections": [],
      "authorship_tag": "ABX9TyMR1hUlBSNMwRfq96ys25h+",
      "include_colab_link": true
    },
    "kernelspec": {
      "name": "python3",
      "display_name": "Python 3"
    }
  },
  "cells": [
    {
      "cell_type": "markdown",
      "metadata": {
        "id": "view-in-github",
        "colab_type": "text"
      },
      "source": [
        "<a href=\"https://colab.research.google.com/github/Gth1205/tf_repo/blob/master/tf2_01_quick_for_beginners.ipynb\" target=\"_parent\"><img src=\"https://colab.research.google.com/assets/colab-badge.svg\" alt=\"Open In Colab\"/></a>"
      ]
    },
    {
      "cell_type": "markdown",
      "metadata": {
        "id": "AjElzmBe1O0a"
      },
      "source": [
        "Tensorflow2 quickstart for beginners."
      ]
    },
    {
      "cell_type": "markdown",
      "metadata": {
        "id": "4-roGyWw3_Ac"
      },
      "source": [
        "Load and prepare the MNIST dataset.\n",
        "- convert the samples from integers to floating point numbers."
      ]
    },
    {
      "cell_type": "code",
      "metadata": {
        "colab": {
          "base_uri": "https://localhost:8080/"
        },
        "id": "q8wfInx0s8xw",
        "outputId": "224f0cbc-b5b6-457b-eedb-845e3b7c5023"
      },
      "source": [
        "import tensorflow as tf\n",
        "\n",
        "mnist = tf.keras.datasets.mnist \n",
        "\n",
        "(x_train, y_train), (x_test, y_test) = mnist.load_data()\n",
        "x_train, x_test = x_train / 255.0, x_test/255.0 "
      ],
      "execution_count": 1,
      "outputs": [
        {
          "output_type": "stream",
          "text": [
            "Downloading data from https://storage.googleapis.com/tensorflow/tf-keras-datasets/mnist.npz\n",
            "11493376/11490434 [==============================] - 0s 0us/step\n"
          ],
          "name": "stdout"
        }
      ]
    },
    {
      "cell_type": "markdown",
      "metadata": {
        "id": "KD8s_-Yi3HC7"
      },
      "source": [
        "Building the keras sequential model by stacking layers. \n",
        "- choosing the optimizer and loss function for training:"
      ]
    },
    {
      "cell_type": "code",
      "metadata": {
        "id": "1Wxb3ZqW2qMe"
      },
      "source": [
        "model = tf.keras.models.Sequential([\n",
        "                                    tf.keras.layers.Flatten(input_shape = (28,28)),\n",
        "                                    tf.keras.layers.Dense(128, activation = 'relu'),\n",
        "                                    tf.keras.layers.Dropout(0.2),\n",
        "                                    tf.keras.layers.Dense(10)\n",
        "                                    ])"
      ],
      "execution_count": 2,
      "outputs": []
    },
    {
      "cell_type": "markdown",
      "metadata": {
        "id": "LaOWex6U36ch"
      },
      "source": [
        ""
      ]
    },
    {
      "cell_type": "code",
      "metadata": {
        "colab": {
          "base_uri": "https://localhost:8080/"
        },
        "id": "WU6NI6923tgJ",
        "outputId": "c25ceab1-4881-49a7-ae20-bdf3e72b23fe"
      },
      "source": [
        "predictions = model(x_train[:1]).numpy()\n",
        "predictions"
      ],
      "execution_count": 3,
      "outputs": [
        {
          "output_type": "execute_result",
          "data": {
            "text/plain": [
              "array([[-0.18210626,  0.38242143, -1.1313502 , -0.28375235, -0.49600983,\n",
              "        -0.16895808, -0.6216748 ,  0.08491716,  0.4061132 ,  0.00774586]],\n",
              "      dtype=float32)"
            ]
          },
          "metadata": {
            "tags": []
          },
          "execution_count": 3
        }
      ]
    },
    {
      "cell_type": "code",
      "metadata": {
        "id": "_-oBuluR32bW"
      },
      "source": [
        ""
      ],
      "execution_count": null,
      "outputs": []
    }
  ]
}